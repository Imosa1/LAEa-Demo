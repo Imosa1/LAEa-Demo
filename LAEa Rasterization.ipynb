{
 "cells": [
  {
   "cell_type": "markdown",
   "metadata": {},
   "source": [
    "# Started 12/27"
   ]
  },
  {
   "cell_type": "code",
   "execution_count": 1,
   "metadata": {},
   "outputs": [
    {
     "name": "stdout",
     "output_type": "stream",
     "text": [
      "pygame 2.0.0 (SDL 2.0.12, python 3.7.8)\n",
      "Hello from the pygame community. https://www.pygame.org/contribute.html\n"
     ]
    }
   ],
   "source": [
    "import pygame\n",
    "import random\n",
    "import matplotlib.pyplot as plt\n",
    "import math as ma\n",
    "import numpy as np\n",
    "import scipy as sp\n",
    "from scipy.spatial.transform import Rotation as R"
   ]
  },
  {
   "cell_type": "code",
   "execution_count": 8,
   "metadata": {},
   "outputs": [],
   "source": [
    "def outAround2Vector(out, around):\n",
    "    '''\n",
    "    Takes 0,0,1 rotates it round the x axis (down) by the out angle and then rotates it around the z axis by the around angle\n",
    "    only works with one pair of angles at the momen\n",
    "    '''\n",
    "    return R.from_euler('xz', [out, around],degrees=True).apply(np.array([0, 0, 1]))"
   ]
  },
  {
   "cell_type": "code",
   "execution_count": 18,
   "metadata": {},
   "outputs": [],
   "source": [
    "outs=np.array([45,90,135])\n",
    "arounds=np.array([0,45,90])\n",
    "def outAround2Vector(out, around):\n",
    "    '''\n",
    "    Takes 0,0,1 rotates it round the x axis (down) by the out angle and then rotates it around the z axis by the around angle\n",
    "    only works with one pair of angles at the momen\n",
    "    '''\n",
    "    Oa = np.array([out,around]).T\n",
    "    print(Oa)\n",
    "    return R.from_euler('xz', Oa,degrees=True).apply(np.array([0, 0, 1]))"
   ]
  },
  {
   "cell_type": "code",
   "execution_count": 19,
   "metadata": {},
   "outputs": [
    {
     "name": "stdout",
     "output_type": "stream",
     "text": [
      "[45 90]\n"
     ]
    },
    {
     "data": {
      "text/plain": [
       "array([0.70710678, 0.        , 0.70710678])"
      ]
     },
     "execution_count": 19,
     "metadata": {},
     "output_type": "execute_result"
    }
   ],
   "source": [
    "outAround2Vector(45,90)"
   ]
  },
  {
   "cell_type": "code",
   "execution_count": 20,
   "metadata": {},
   "outputs": [
    {
     "name": "stdout",
     "output_type": "stream",
     "text": [
      "[[ 45   0]\n",
      " [ 90  45]\n",
      " [135  90]]\n"
     ]
    },
    {
     "data": {
      "text/plain": [
       "array([[ 0.00000000e+00, -7.07106781e-01,  7.07106781e-01],\n",
       "       [ 7.07106781e-01, -7.07106781e-01,  5.55111512e-17],\n",
       "       [ 7.07106781e-01,  0.00000000e+00, -7.07106781e-01]])"
      ]
     },
     "execution_count": 20,
     "metadata": {},
     "output_type": "execute_result"
    }
   ],
   "source": [
    "outAround2Vector(outs,arounds)"
   ]
  },
  {
   "cell_type": "code",
   "execution_count": null,
   "metadata": {},
   "outputs": [],
   "source": []
  }
 ],
 "metadata": {
  "kernelspec": {
   "display_name": "Python 3",
   "language": "python",
   "name": "python3"
  },
  "language_info": {
   "codemirror_mode": {
    "name": "ipython",
    "version": 3
   },
   "file_extension": ".py",
   "mimetype": "text/x-python",
   "name": "python",
   "nbconvert_exporter": "python",
   "pygments_lexer": "ipython3",
   "version": "3.7.8"
  }
 },
 "nbformat": 4,
 "nbformat_minor": 4
}
