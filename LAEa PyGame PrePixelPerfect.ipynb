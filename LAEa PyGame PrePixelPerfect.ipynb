{
 "cells": [
  {
   "cell_type": "markdown",
   "metadata": {},
   "source": [
    "# Retired 12/27"
   ]
  },
  {
   "cell_type": "code",
   "execution_count": 23,
   "metadata": {},
   "outputs": [],
   "source": [
    "import pygame\n",
    "import random\n",
    "import matplotlib.pyplot as plt\n",
    "import math as ma\n",
    "import numpy as np\n",
    "import scipy as sp\n",
    "from scipy.spatial.transform import Rotation as R"
   ]
  },
  {
   "cell_type": "code",
   "execution_count": 2,
   "metadata": {},
   "outputs": [],
   "source": [
    "np.set_printoptions(precision=3, sign=' ')\n",
    "\n",
    "# Adds a new face and color pair to a pair of lists\n",
    "def newFace(f,c,fL,cL):\n",
    "    fL = np.concatenate((fL,f),axis=0)\n",
    "    cL = np.concatenate((cL,c),axis=0)\n",
    "    return fL,cL\n",
    "\n",
    "# Uses a vector and origin to see which item (from flist) is hit. \n",
    "def rayNumbers(v,O,rst):\n",
    "    t=rst[:,2]\n",
    "    B=rst[:,1]-rst[:,2] #The order here is basically determined by wanting BxC to match the face vector &\n",
    "    C=rst[:,0]-rst[:,2] # wanting both vectors to start at t (although any point would do).\n",
    "    l=O-rst[:,2]\n",
    "    U=np.stack((B,C,np.broadcast_to(-v,B.shape)),axis=1)\n",
    "    # print(U)\n",
    "    try:\n",
    "        N=np.linalg.inv(U)\n",
    "    except:\n",
    "        print('Singular Matrix')\n",
    "        N=np.broadcast_to(np.eye(3,3),U.shape)\n",
    "    u=np.matmul(l[:,None,:],N)[:,0,:] # Not sure why matmul has to go l,N instead of N,l\n",
    "    return u\n",
    "\n",
    "def rayNumbersV(V,O,rst):\n",
    "    indexes = []\n",
    "    for v in V:\n",
    "        #print(v)\n",
    "        rN = rayNumbers(v,O,rst)\n",
    "        rNBool = np.any(np.vstack((0>rN[:,0],0>rN[:,1],1<rN[:,0]+rN[:,1],0>=rN[:,2])),axis=0)\n",
    "        rN[rNBool,2]=np.inf\n",
    "        indexes.append(np.argmin(rN[:,2]))\n",
    "    return indexes\n",
    "\n",
    "def raysOfVision(O,D):\n",
    "    '''\n",
    "    Uses an orientation to return a number of rays which will be used to construct the Vision\n",
    "    @param O : The orientation of the viewer\n",
    "    @param D : A number characterizing the number of rays to be produced\n",
    "    @return : A np.array of rays\n",
    "    '''\n",
    "    assert isinstance(O, sp.spatial.transform.Rotation)\n",
    "    return None\n",
    "\n",
    "def normV(v):\n",
    "    return v / np.linalg.norm(v, axis=len(v.shape)-1, keepdims=True)\n",
    "\n",
    "def newFace(f,c,fL,cL):\n",
    "    fL = np.concatenate((fL,f),axis=0)\n",
    "    cL = np.concatenate((cL,c),axis=0)\n",
    "    return fL,cL\n",
    "\n",
    "def outAround(out,around):\n",
    "    '''\n",
    "    Takes 0,0,1 rotates it round the x axis (down) by the out angle and then rotates it around the z axis by the around angle\n",
    "    only works with one pair of angles at the momen\n",
    "    '''\n",
    "    return R.from_euler('xz', [out,around], degrees=True).apply(np.array([0,0,1]))\n",
    "\n",
    "def outAroundInv(v):\n",
    "    '''\n",
    "    Inverts outAround\n",
    "    '''\n",
    "    if len(v.shape)==1:\n",
    "        return np.arccos(v[2])*180/np.pi, (np.arctan2(v[1],v[0])*180/np.pi)+90\n",
    "    elif len(v.shape)==2:\n",
    "        return np.arccos(v[:,2])*180/np.pi, (np.arctan2(v[:,1],v[:,0])*180/np.pi)+90\n",
    "    else:\n",
    "        raise Exception(\"This function can only handle lists of vectors\") \n",
    "\n",
    "def octahedron(center,r,rot,lowColor=3,highColor=7):\n",
    "    #center=np.array([0,0,0])\n",
    "    #r=3\n",
    "    #rot=R.from_rotvec(np.array([.1, .1, .1]))\n",
    "    offset=np.transpose((np.stack((np.eye(3),np.eye(3)*-1),axis=2)).reshape(3,6))\n",
    "    corners=r*offset+center\n",
    "    #print(offset)\n",
    "    sideSel=np.array([[1,0,1,0,1,0],[1,0,1,0,0,1],[1,0,0,1,1,0],[0,1,1,0,1,0],[0,1,1,0,0,1],[1,0,0,1,0,1],[0,1,0,1,1,0],[0,1,0,1,0,1]],dtype=bool)\n",
    "    sides=np.zeros((1,3,3))\n",
    "    for i in sideSel:\n",
    "        sides=np.append(sides,offset[None,i],axis=0)\n",
    "    sides=sides[1:]\n",
    "    #print(sides)\n",
    "    #print(rot.apply(sides.reshape(24,3)).reshape(8,3,3))\n",
    "    sidesR=rot.apply(sides.reshape(24,3)).reshape(8,3,3)*r+center\n",
    "    lC,hC=lowColor,highColor #low and high color\n",
    "    colors=(np.sum(sides,axis=2)+1)*(hC-lC)/2+lC\n",
    "    #print(colors.shape)\n",
    "    return sidesR,colors\n",
    "def tickMark(loc,color,orientation=0,scale=1):\n",
    "    side=np.array([[0,0,0],[1,0,0],[0,1,0]])\n",
    "    if orientation!=0:\n",
    "        side=orientation.apply(side)\n",
    "    return side, np.array(color)"
   ]
  },
  {
   "cell_type": "code",
   "execution_count": 3,
   "metadata": {},
   "outputs": [
    {
     "data": {
      "text/plain": [
       "(array([[[ 29.801,   3.335,  -2.535],\n",
       "         [ -2.735,  29.901,   3.435],\n",
       "         [  3.235,  -2.635,  30.001]],\n",
       " \n",
       "        [[ 29.801,   3.335,  -2.535],\n",
       "         [ -2.735,  29.901,   3.435],\n",
       "         [ -3.035,   3.035, -29.401]],\n",
       " \n",
       "        [[ 29.801,   3.335,  -2.535],\n",
       "         [  2.935, -29.501,  -2.835],\n",
       "         [  3.235,  -2.635,  30.001]],\n",
       " \n",
       "        [[-29.601,  -2.935,   3.135],\n",
       "         [ -2.735,  29.901,   3.435],\n",
       "         [  3.235,  -2.635,  30.001]],\n",
       " \n",
       "        [[-29.601,  -2.935,   3.135],\n",
       "         [ -2.735,  29.901,   3.435],\n",
       "         [ -3.035,   3.035, -29.401]],\n",
       " \n",
       "        [[ 29.801,   3.335,  -2.535],\n",
       "         [  2.935, -29.501,  -2.835],\n",
       "         [ -3.035,   3.035, -29.401]],\n",
       " \n",
       "        [[-29.601,  -2.935,   3.135],\n",
       "         [  2.935, -29.501,  -2.835],\n",
       "         [  3.235,  -2.635,  30.001]],\n",
       " \n",
       "        [[-29.601,  -2.935,   3.135],\n",
       "         [  2.935, -29.501,  -2.835],\n",
       "         [ -3.035,   3.035, -29.401]]]),\n",
       " array([[ 7.,  7.,  7.],\n",
       "        [ 7.,  7.,  3.],\n",
       "        [ 7.,  3.,  7.],\n",
       "        [ 3.,  7.,  7.],\n",
       "        [ 3.,  7.,  3.],\n",
       "        [ 7.,  3.,  3.],\n",
       "        [ 3.,  3.,  7.],\n",
       "        [ 3.,  3.,  3.]]))"
      ]
     },
     "execution_count": 3,
     "metadata": {},
     "output_type": "execute_result"
    }
   ],
   "source": [
    "octahedron(np.array([0.1,0.2,0.3]),30,R.from_rotvec(np.array([.1, .1, .1])))"
   ]
  },
  {
   "cell_type": "code",
   "execution_count": 4,
   "metadata": {},
   "outputs": [],
   "source": [
    "center=np.array([0,0,0])\n",
    "r=3\n",
    "rot=R.from_rotvec(np.array([.1, .1, .1]))\n",
    "offset=np.transpose((np.stack((np.eye(3),np.eye(3)*-1),axis=2)).reshape(3,6))\n",
    "corners=r*offset+center\n",
    "#print(offset)\n",
    "sideSel=np.array([[1,0,1,0,1,0],[1,0,1,0,0,1],[1,0,0,1,1,0],[0,1,1,0,1,0],[0,1,1,0,0,1],[1,0,0,1,0,1],[0,1,0,1,1,0],[0,1,0,1,0,1]],dtype=bool)\n",
    "sides=np.zeros((1,3,3))\n",
    "for i in sideSel:\n",
    "    sides=np.append(sides,offset[None,i],axis=0)\n",
    "sides=sides[1:]\n",
    "#print(sides)\n",
    "#print(rot.apply(sides.reshape(24,3)).reshape(8,3,3))\n",
    "#print(rot.apply(sides.reshape(24,3)).reshape(8,3,3)*r+center)\n",
    "lC,hC=1,8 #low and high color\n",
    "colors=(np.sum(sides,axis=2)+1)*(hC-lC)/2+lC\n",
    "#print(colors.shape)"
   ]
  },
  {
   "cell_type": "code",
   "execution_count": 5,
   "metadata": {},
   "outputs": [
    {
     "name": "stdout",
     "output_type": "stream",
     "text": [
      "[[ 0.25  -0.433  0.866]\n",
      " [ 0.321 -0.383  0.866]]\n",
      "(array([ 30.,  30.]), array([ 30.,  40.]))\n"
     ]
    }
   ],
   "source": [
    "out=np.array([30,30])\n",
    "around=np.array([30,40])\n",
    "print(outAround(out,around))\n",
    "print(outAroundInv(outAround(out,around)))"
   ]
  },
  {
   "cell_type": "code",
   "execution_count": 6,
   "metadata": {},
   "outputs": [],
   "source": [
    "listN = 5\n",
    "fList,cList=octahedron(np.array([0.1,0.2,0.3]),30,R.from_rotvec(np.array([.1, .1, .1])))\n",
    "nf = np.random.randint(-5, 6, (listN,3,3), dtype=int)\n",
    "nc = np.random.randint(0, 10, (listN,3), dtype=int)\n",
    "fList,cList = newFace(nf,nc,fList,cList)\n",
    "V = np.array([1,1,0.5])\n",
    "V2 = np.array([[1,0,0],[1,0.5,0],[1,1,0],[1,1,0.5],[1,1,1]])\n",
    "O = np.array([0,0,0])"
   ]
  },
  {
   "cell_type": "code",
   "execution_count": null,
   "metadata": {},
   "outputs": [],
   "source": []
  },
  {
   "cell_type": "code",
   "execution_count": 7,
   "metadata": {},
   "outputs": [
    {
     "name": "stdout",
     "output_type": "stream",
     "text": [
      "[[  0.379   0.424  12.24 ]\n",
      " [  0.629   0.7    20.149]\n",
      " [ -1.569   1.739  49.894]\n",
      " [  2.362  -2.616  75.013]\n",
      " [ -1.567   1.726 -49.364]\n",
      " [  2.312  -2.55  -72.957]\n",
      " [  0.643   0.705 -20.119]\n",
      " [  0.379   0.414 -11.76 ]\n",
      " [ -0.267   0.733  -1.2  ]\n",
      " [  0.5     1.      2.   ]\n",
      " [  0.313   0.641  -2.844]\n",
      " [ -0.324   0.676  -0.176]\n",
      " [  1.125  -1.688  -2.375]]\n",
      "   0<  |   0<  |   1>  |   0<  |Failed?|  dist |\n",
      "  0.379   0.424   0.804  12.240       0  12.240\n",
      "  0.629   0.700   1.330  20.149       1     inf\n",
      " -1.569   1.739   0.170  49.894       1     inf\n",
      "  2.362  -2.616  -0.253  75.013       1     inf\n",
      " -1.567   1.726   0.159 -49.364       1     inf\n",
      "  2.312  -2.550  -0.238 -72.957       1     inf\n",
      "  0.643   0.705   1.348 -20.119       1     inf\n",
      "  0.379   0.414   0.792 -11.760       1     inf\n",
      " -0.267   0.733   0.467  -1.200       1     inf\n",
      "  0.500   1.000   1.500   2.000       1     inf\n",
      "  0.313   0.641   0.953  -2.844       1     inf\n",
      " -0.324   0.676   0.353  -0.176       1     inf\n",
      "  1.125  -1.688  -0.563  -2.375       1     inf\n",
      "0\n",
      "[ 7.  7.  7.]\n"
     ]
    }
   ],
   "source": [
    "rN = rayNumbers(V,O,fList)\n",
    "print(rN)\n",
    "rNBool = np.any(np.vstack((0>rN[:,0],0>rN[:,1],1<rN[:,0]+rN[:,1],0>=rN[:,2])),axis=0)\n",
    "outtable = np.concatenate((rN,rNBool[:,None],rN[:,None,2]),axis=1)\n",
    "outtable[rNBool,4]=np.inf\n",
    "print(\"   0<  |   0<  |   1>  |   0<  |Failed?|  dist |\")\n",
    "for i in outtable:\n",
    "    print(\"%7.3f %7.3f %7.3f %7.3f %7.0f %7.3f\"%(i[0],i[1],i[0]+i[1],i[2],i[3],i[4]))\n",
    "nearIndex = np.argmin(outtable[:,4])\n",
    "print(nearIndex)\n",
    "print(cList[nearIndex])"
   ]
  },
  {
   "cell_type": "code",
   "execution_count": 8,
   "metadata": {},
   "outputs": [
    {
     "name": "stdout",
     "output_type": "stream",
     "text": [
      "Singular Matrix\n",
      "Singular Matrix\n",
      "Singular Matrix\n",
      "[0, 0, 0, 0, 0]\n",
      "[[ 7.  7.  7.]\n",
      " [ 7.  7.  7.]\n",
      " [ 7.  7.  7.]\n",
      " [ 7.  7.  7.]\n",
      " [ 7.  7.  7.]]\n"
     ]
    }
   ],
   "source": [
    "nearIndex2=rayNumbersV(V2,O,fList)\n",
    "print(nearIndex2)\n",
    "print(cList[nearIndex2])"
   ]
  },
  {
   "cell_type": "code",
   "execution_count": 9,
   "metadata": {},
   "outputs": [
    {
     "name": "stdout",
     "output_type": "stream",
     "text": [
      "   0<  |   0<  |   1>  |   0<  |Failed?|  dist |\n",
      "  0.333   0.337   0.670  10.200       0  10.200\n",
      "  0.993   0.998   1.991  30.023       1     inf\n",
      " -0.998   1.002   0.004  30.160       1     inf\n",
      "  1.007  -1.011  -0.004  30.417       1     inf\n",
      " -1.002   0.998  -0.004 -29.840       1     inf\n",
      "  0.993  -0.989   0.004 -29.583       1     inf\n",
      "  1.007   1.002   2.009 -29.977       1     inf\n",
      "  0.334   0.330   0.664  -9.800       1     inf\n",
      " -1.167   1.333   0.167  -3.000       1     inf\n",
      "  0.500   0.667   1.167   1.000       1     inf\n",
      "  0.191   0.489   0.681  -1.936       1     inf\n",
      " -0.320   0.680   0.360  -0.120       1     inf\n",
      "  0.909  -1.364  -0.455  -1.727       1     inf\n",
      "0\n",
      "[ 7.  7.  7.]\n"
     ]
    }
   ],
   "source": [
    "rN = rayNumbers(np.array([1,1,1]),O,fList)\n",
    "rNBool = np.any(np.vstack((0>rN[:,0],0>rN[:,1],1<rN[:,0]+rN[:,1],0>=rN[:,2])),axis=0)\n",
    "outtable = np.concatenate((rN,rNBool[:,None],rN[:,None,2]),axis=1)\n",
    "outtable[rNBool,4]=np.inf\n",
    "print(\"   0<  |   0<  |   1>  |   0<  |Failed?|  dist |\")\n",
    "for i in outtable:\n",
    "    print(\"%7.3f %7.3f %7.3f %7.3f %7.0f %7.3f\"%(i[0],i[1],i[0]+i[1],i[2],i[3],i[4]))\n",
    "nearIndex = np.argmin(outtable[:,4])\n",
    "print(nearIndex)\n",
    "print(cList[nearIndex])"
   ]
  },
  {
   "cell_type": "code",
   "execution_count": 10,
   "metadata": {},
   "outputs": [
    {
     "name": "stdout",
     "output_type": "stream",
     "text": [
      "[-8.660e-17 -7.071e-01  7.071e-01]\n",
      "[ 0.017  0.     1.   ]\n",
      "[ 0.123 -0.123  0.985]\n",
      "[ 0.    -0.707  0.707]\n",
      "[ 0.5   -0.5    0.707]\n",
      "[ 0.75  -0.433  0.5  ]\n",
      "[ 0. -1.  0.]\n",
      "[ 1.  0.  0.]\n",
      "[[ 0.123 -0.123  0.985]\n",
      " [-0.123  0.123  0.985]]\n"
     ]
    }
   ],
   "source": [
    "pzh=np.array([0,0,1])\n",
    "print(R.from_euler('xz', [-45,180], degrees=True).apply(pzh))\n",
    "print(R.from_euler('xz', [1,90], degrees=True).apply(pzh))\n",
    "print(R.from_euler('xz', [10,45], degrees=True).apply(pzh))\n",
    "print(R.from_euler('xz', [45,0], degrees=True).apply(pzh))\n",
    "print(R.from_euler('xz', [45,45], degrees=True).apply(pzh))\n",
    "print(R.from_euler('xz', [60,60], degrees=True).apply(pzh))\n",
    "print(R.from_euler('xz', [90,0], degrees=True).apply(pzh))\n",
    "print(R.from_euler('xz', [90,90], degrees=True).apply(pzh))\n",
    "print(R.from_euler('xz', [[10,45],[-10,45]], degrees=True).apply(pzh))"
   ]
  },
  {
   "cell_type": "code",
   "execution_count": 11,
   "metadata": {},
   "outputs": [
    {
     "name": "stdout",
     "output_type": "stream",
     "text": [
      "[-7.071e-01  1.110e-16  7.071e-01]\n",
      "45.00000000000001 270.0\n"
     ]
    }
   ],
   "source": [
    "v45=outAround(45,270)\n",
    "print(v45)\n",
    "around = (np.arctan2(v45[1],v45[0])*180/np.pi)+90\n",
    "out = np.arccos(v45[2])*180/np.pi\n",
    "print(out,around)"
   ]
  },
  {
   "cell_type": "code",
   "execution_count": 12,
   "metadata": {},
   "outputs": [
    {
     "name": "stdout",
     "output_type": "stream",
     "text": [
      "[[ 1.00e+00  1.11e-16  2.00e+00]\n",
      " [ 1.00e+00  3.00e+00  1.00e+00]\n",
      " [ 2.00e+00  1.00e+00  1.00e+00]]\n"
     ]
    }
   ],
   "source": [
    "# Goal: Take points from a surface and create a method which repositions it relative to the player\n",
    "# probably something like (point+player location)*player rotation\n",
    "shape=np.array([[2,1,0],[1,1,3],[1,2,1]])\n",
    "O=np.array([0,0,0]) #Player location\n",
    "# right off the bat this would appear as [[1,0,2],[1,3,1],[2,1,1]]\n",
    "playerOrient = R.from_rotvec(-2/3*np.pi * normV(np.array([1,1,1])))\n",
    "print(playerOrient.apply(shape-O)) # Good start"
   ]
  },
  {
   "cell_type": "code",
   "execution_count": 13,
   "metadata": {},
   "outputs": [
    {
     "name": "stdout",
     "output_type": "stream",
     "text": [
      "[[ 1.00e+00  2.22e-16  3.00e+00]\n",
      " [ 1.00e+00  3.00e+00  2.00e+00]\n",
      " [ 2.00e+00  1.00e+00  2.00e+00]]\n"
     ]
    }
   ],
   "source": [
    "O=np.array([-1,0,0]) #Player location\n",
    "# right off the bat this would appear as [[1,0,3],[1,3,2],[2,1,2]]\n",
    "playerOrient = R.from_rotvec(-2/3*np.pi * normV(np.array([1,1,1])))\n",
    "print(playerOrient.apply(shape-O)) # Good start"
   ]
  },
  {
   "cell_type": "code",
   "execution_count": 14,
   "metadata": {},
   "outputs": [
    {
     "name": "stdout",
     "output_type": "stream",
     "text": [
      "[[ 1.    -0.521  2.954]\n",
      " [ 1.     2.607  2.491]\n",
      " [ 2.     0.638  2.143]]\n"
     ]
    }
   ],
   "source": [
    "rotx10=R.from_euler('x', 10, degrees=True) # hopefully this will be a rotation abote the player's x axis looking up a bit\n",
    "print((rotx10 * playerOrient).apply(shape-O)) # Yes?"
   ]
  },
  {
   "cell_type": "code",
   "execution_count": 15,
   "metadata": {},
   "outputs": [
    {
     "name": "stdout",
     "output_type": "stream",
     "text": [
      "[[ 1.332e+00  1.110e-16  1.796e+00]\n",
      " [ 1.158e+00  3.000e+00  8.112e-01]\n",
      " [ 2.143e+00  1.000e+00  6.375e-01]]\n"
     ]
    }
   ],
   "source": [
    "roty10=R.from_euler('y', 10, degrees=True) # hopefully this will be a rotation abote the player's y axis looking left a bit\n",
    "print((roty10 * playerOrient).apply(shape)) # Yes?\n",
    "# seems things follow the right hand curl rule"
   ]
  },
  {
   "cell_type": "code",
   "execution_count": 16,
   "metadata": {},
   "outputs": [
    {
     "name": "stdout",
     "output_type": "stream",
     "text": [
      "[[ 1.00e+00 -2.00e+00  7.85e-17]\n",
      " [ 1.00e+00 -1.00e+00  3.00e+00]\n",
      " [ 2.00e+00 -1.00e+00  1.00e+00]]\n",
      "[[ 1.11e-16 -2.00e+00 -1.00e+00]\n",
      " [ 3.00e+00 -1.00e+00 -1.00e+00]\n",
      " [ 1.00e+00 -1.00e+00 -2.00e+00]]\n",
      "[[ 2.00e+00  1.00e+00  1.11e-16]\n",
      " [ 1.00e+00  1.00e+00  3.00e+00]\n",
      " [ 1.00e+00  2.00e+00  1.00e+00]]\n"
     ]
    }
   ],
   "source": [
    "rotx90=R.from_euler('x', 90, degrees=True)\n",
    "roty90=R.from_euler('y', 90, degrees=True)\n",
    "print((rotx90*playerOrient).apply(shape)) \n",
    "print((roty90*rotx90*playerOrient).apply(shape)) \n",
    "print((rotx90*roty90*playerOrient).apply(shape)) "
   ]
  },
  {
   "cell_type": "code",
   "execution_count": 17,
   "metadata": {},
   "outputs": [],
   "source": [
    "nFaces=fList.shape[0]\n",
    "fListFlat=fList.reshape(nFaces*3,3)\n",
    "fListP=(roty90*rotx90*playerOrient).apply(fListFlat).reshape(nFaces,3,3)"
   ]
  },
  {
   "cell_type": "code",
   "execution_count": 18,
   "metadata": {},
   "outputs": [
    {
     "data": {
      "text/plain": [
       "array([[-1.11e-16,  1.00e+00,  1.11e-16],\n",
       "       [ 1.11e-16, -1.11e-16,  1.00e+00],\n",
       "       [ 1.00e+00,  1.11e-16, -1.11e-16]])"
      ]
     },
     "execution_count": 18,
     "metadata": {},
     "output_type": "execute_result"
    }
   ],
   "source": [
    "playerOrient.as_matrix()"
   ]
  },
  {
   "cell_type": "code",
   "execution_count": 19,
   "metadata": {},
   "outputs": [],
   "source": [
    "pLoc = np.array([1,1,1])\n",
    "pLoc=playerOrient.apply(np.array([1,0,0]))+pLoc"
   ]
  },
  {
   "cell_type": "code",
   "execution_count": 20,
   "metadata": {},
   "outputs": [
    {
     "data": {
      "text/plain": [
       "array([1, 0, 0])"
      ]
     },
     "execution_count": 20,
     "metadata": {},
     "output_type": "execute_result"
    }
   ],
   "source": [
    "np.array([1,0,0])"
   ]
  },
  {
   "cell_type": "code",
   "execution_count": 21,
   "metadata": {},
   "outputs": [],
   "source": [
    "def outAround2Screen(s,oA):\n",
    "    SCREEN_DIMENSION=s.get_size()\n",
    "    sCx=SCREEN_DIMENSION[0]/2\n",
    "    sCy=SCREEN_DIMENSION[1]/2\n",
    "    sRadius=min(sCx,sCy)\n",
    "    oRadius=oA[0]*sRadius/180\n",
    "    x=oRadius*ma.sin(ma.radians(oA[1]))\n",
    "    y=oRadius*ma.cos(ma.radians(oA[1]))\n",
    "    return sCx+x,sCy+y\n",
    "def outAround(out,around):\n",
    "    '''\n",
    "    Takes 0,0,1 rotates it round the x axis (down) by the out angle and then rotates it around the z axis by the around angle\n",
    "    only works with one pair of angles at the momen\n",
    "    '''\n",
    "    return R.from_euler('xz', [out,around], degrees=True).apply(np.array([0,0,1]))\n",
    "def eyeVec2persp(vec):\n",
    "    '''\n",
    "    Perspective should refer to the normalized version of what goes onto the screen. Screen should refer to what gets put onto the screen\n",
    "    Takes perspective coordintes and returns the eye vector corresponding to that perspective coordinate\n",
    "    '''\n",
    "    coords=np.reshape(coord,(int(coord.size/2),2))\n",
    "    outDist=np.linalg.norm(coords,axis=1)\n",
    "    outAngle=np.arcsin(outDist)*2\n",
    "    print(coords)\n",
    "    print(outDist)\n",
    "    print(np.degrees(outAngle))\n",
    "    # next we need to convert the \n",
    "def pixelCircle(r,centers=False):\n",
    "    '''\n",
    "    Returns pixels a distance r from center is at coordiate point 0,0 and pixels are assumed to be 1 unit wide.\n",
    "    The closest pixel to the center has the center (0.5,0.5) It is assumed that this level of detail will matter some day.\n",
    "    '''\n",
    "    r2=r*r\n",
    "    pixels=np.array([[r*ma.cos(ma.pi/4)-0.5,r*ma.sin(ma.pi/4)-0.5]],dtype=int)\n",
    "    y = pixels[0,1]\n",
    "    x = pixels[0,0]\n",
    "    cenStack=np.stack((np.arange(0,x),np.arange(0,y))).T\n",
    "    # print(x,y)\n",
    "    while(y>=0 and x<r):\n",
    "        # print(x+1,y,ma.pow(x+1+0.5,2)+ma.pow(y+0.5,2))\n",
    "        if ma.pow(x+1+0.5,2)+ma.pow(y+0.5,2)<r2 :\n",
    "            x+=1\n",
    "        else :\n",
    "            y-=1\n",
    "        newStack = np.stack((np.arange(x-y,x+1),np.arange(0,y+1))).T\n",
    "        pixels=np.concatenate((pixels,newStack),axis=0)\n",
    "        \n",
    "    # print(np.flip(pixels[1:,:],axis=1))\n",
    "    pixels=np.concatenate((pixels,np.flip(pixels[1:,:],axis=1)),axis=0)\n",
    "    pixels=np.concatenate((pixels,cenStack),axis=0)\n",
    "    # rotating the quarter circle\n",
    "    pixels=pixels+0.5\n",
    "    pixelX=np.multiply(pixels,np.broadcast_to(np.array([-1,1]),(pixels.shape)))\n",
    "    pixels=np.concatenate((pixels,pixelX),axis=0)\n",
    "    pixelY=np.multiply(pixels,np.broadcast_to(np.array([1,-1]),(pixels.shape)))\n",
    "    pixels=np.concatenate((pixels,pixelY),axis=0)\n",
    "    if centers:\n",
    "        return pixels\n",
    "    else:\n",
    "        pixels=pixels-0.5\n",
    "        return(pixels.astype(int))\n",
    "def persp2eyeVec(coords):\n",
    "    '''\n",
    "    Perspective should refer to the normalized version of what goes onto the screen. Screen should refer to what gets put onto the screen\n",
    "    Takes perspective coordintes and returns the eye vector corresponding to that perspective coordinate\n",
    "    '''\n",
    "    # print(coords)\n",
    "    coords=np.reshape(coord,(int(coord.size/2),2))\n",
    "    outDist=np.linalg.norm(coords,axis=1)\n",
    "    outAngle=np.arcsin(outDist)*2\n",
    "    aroundAngle=np.arctan2(coords[:,1],coords[:,0])+np.pi/2\n",
    "    print(coords.T)\n",
    "    print(outDist)\n",
    "    # next we need to convert the \n",
    "    OACoords=np.array([outAngle,aroundAngle]).T\n",
    "    print(np.degrees(OACoords).T)\n",
    "    vector=R.from_euler('xz', OACoords, degrees=False).apply(np.array([0,0,1]))\n",
    "    return vector"
   ]
  },
  {
   "cell_type": "code",
   "execution_count": 24,
   "metadata": {},
   "outputs": [
    {
     "data": {
      "text/plain": [
       "array([[ 0.5,  0.5],\n",
       "       [ 1.5,  0.5],\n",
       "       [ 0.5,  1.5],\n",
       "       [-0.5,  0.5],\n",
       "       [-1.5,  0.5],\n",
       "       [-0.5,  1.5],\n",
       "       [ 0.5, -0.5],\n",
       "       [ 1.5, -0.5],\n",
       "       [ 0.5, -1.5],\n",
       "       [-0.5, -0.5],\n",
       "       [-1.5, -0.5],\n",
       "       [-0.5, -1.5]])"
      ]
     },
     "execution_count": 24,
     "metadata": {},
     "output_type": "execute_result"
    }
   ],
   "source": [
    "pixelCircle(2,True)"
   ]
  },
  {
   "cell_type": "code",
   "execution_count": 25,
   "metadata": {},
   "outputs": [
    {
     "name": "stdout",
     "output_type": "stream",
     "text": [
      "(1264, 2)\n",
      "[[ 0.675  0.075  0.125 ... -0.525 -0.575 -0.625]\n",
      " [ 0.675  0.025  0.075 ... -0.525 -0.575 -0.625]]\n",
      "[ 0.955  0.079  0.146 ...  0.742  0.813  0.884]\n",
      "[[145.336   9.069  16.764 ...  95.883 108.814 124.229]\n",
      " [135.    108.435 120.964 ... -45.    -45.    -45.   ]]\n",
      "(1264, 3)\n"
     ]
    }
   ],
   "source": [
    "coord=np.reshape(np.array([.999,0,.71,0,-.3,.2,.1,-.1,-.5,-.2]),(5,2))\n",
    "coord=np.array([.999,0,.71,0,.38,0,0,0])\n",
    "coord=pixelCircle(20,True)/20\n",
    "\n",
    "print(coord.shape)\n",
    "print(persp2eyeVec(coord).shape)"
   ]
  },
  {
   "cell_type": "code",
   "execution_count": 26,
   "metadata": {},
   "outputs": [
    {
     "name": "stdout",
     "output_type": "stream",
     "text": [
      "[[ 0.5  0.5]\n",
      " [ 1.5  0.5]\n",
      " [ 0.5  1.5]\n",
      " [-0.5  0.5]\n",
      " [-1.5  0.5]\n",
      " [-0.5  1.5]\n",
      " [ 0.5 -0.5]\n",
      " [ 1.5 -0.5]\n",
      " [ 0.5 -1.5]\n",
      " [-0.5 -0.5]\n",
      " [-1.5 -0.5]\n",
      " [-0.5 -1.5]]\n"
     ]
    },
    {
     "ename": "NameError",
     "evalue": "name 'perspCoords' is not defined",
     "output_type": "error",
     "traceback": [
      "\u001b[1;31m---------------------------------------------------------------------------\u001b[0m",
      "\u001b[1;31mNameError\u001b[0m                                 Traceback (most recent call last)",
      "\u001b[1;32m<ipython-input-26-fbb0cbcd1adf>\u001b[0m in \u001b[0;36m<module>\u001b[1;34m\u001b[0m\n\u001b[0;32m      4\u001b[0m \u001b[0msCy\u001b[0m\u001b[1;33m=\u001b[0m\u001b[1;36m10\u001b[0m\u001b[1;33m\u001b[0m\u001b[1;33m\u001b[0m\u001b[0m\n\u001b[0;32m      5\u001b[0m \u001b[0mprint\u001b[0m\u001b[1;33m(\u001b[0m\u001b[0mpC\u001b[0m\u001b[1;33m)\u001b[0m\u001b[1;33m\u001b[0m\u001b[1;33m\u001b[0m\u001b[0m\n\u001b[1;32m----> 6\u001b[1;33m \u001b[0mprint\u001b[0m\u001b[1;33m(\u001b[0m\u001b[0mnp\u001b[0m\u001b[1;33m.\u001b[0m\u001b[0mmultiply\u001b[0m\u001b[1;33m(\u001b[0m\u001b[0mperspCoords\u001b[0m\u001b[1;33m*\u001b[0m\u001b[0msRadius\u001b[0m\u001b[1;33m,\u001b[0m\u001b[0mnp\u001b[0m\u001b[1;33m.\u001b[0m\u001b[0mbroadcast_to\u001b[0m\u001b[1;33m(\u001b[0m\u001b[0mnp\u001b[0m\u001b[1;33m.\u001b[0m\u001b[0marray\u001b[0m\u001b[1;33m(\u001b[0m\u001b[1;33m[\u001b[0m\u001b[1;36m1\u001b[0m\u001b[1;33m,\u001b[0m\u001b[1;33m-\u001b[0m\u001b[1;36m1\u001b[0m\u001b[1;33m]\u001b[0m\u001b[1;33m)\u001b[0m\u001b[1;33m,\u001b[0m\u001b[1;33m(\u001b[0m\u001b[0mperspCoords\u001b[0m\u001b[1;33m.\u001b[0m\u001b[0mshape\u001b[0m\u001b[1;33m)\u001b[0m\u001b[1;33m)\u001b[0m\u001b[1;33m)\u001b[0m\u001b[1;33m+\u001b[0m\u001b[0mnp\u001b[0m\u001b[1;33m.\u001b[0m\u001b[0marray\u001b[0m\u001b[1;33m(\u001b[0m\u001b[1;33m[\u001b[0m\u001b[0msCx\u001b[0m\u001b[1;33m,\u001b[0m\u001b[0msCy\u001b[0m\u001b[1;33m]\u001b[0m\u001b[1;33m)\u001b[0m\u001b[1;33m)\u001b[0m\u001b[1;33m\u001b[0m\u001b[1;33m\u001b[0m\u001b[0m\n\u001b[0m",
      "\u001b[1;31mNameError\u001b[0m: name 'perspCoords' is not defined"
     ]
    }
   ],
   "source": [
    "pC=pixelCircle(2,True)\n",
    "sRadius=1\n",
    "sCx=20\n",
    "sCy=10\n",
    "print(pC)\n",
    "print(np.multiply(perspCoords*sRadius,np.broadcast_to(np.array([1,-1]),(perspCoords.shape)))+np.array([sCx,sCy]))"
   ]
  },
  {
   "cell_type": "code",
   "execution_count": null,
   "metadata": {},
   "outputs": [],
   "source": []
  },
  {
   "cell_type": "markdown",
   "metadata": {},
   "source": [
    "# The PyGame Starts Here"
   ]
  },
  {
   "cell_type": "code",
   "execution_count": 1,
   "metadata": {},
   "outputs": [
    {
     "name": "stdout",
     "output_type": "stream",
     "text": [
      "pygame 2.0.0 (SDL 2.0.12, python 3.7.8)\n",
      "Hello from the pygame community. https://www.pygame.org/contribute.html\n"
     ]
    },
    {
     "data": {
      "text/plain": [
       "(6, 0)"
      ]
     },
     "execution_count": 1,
     "metadata": {},
     "output_type": "execute_result"
    }
   ],
   "source": [
    "import pygame\n",
    "import random\n",
    "import numpy as np\n",
    "import scipy as sp\n",
    "from scipy.spatial.transform import Rotation as R\n",
    "from pygame.locals import (RLEACCEL,K_ESCAPE,KEYDOWN,QUIT)\n",
    "from pygame.locals import (K_UP,K_DOWN,K_LEFT,K_RIGHT)\n",
    "from pygame.locals import (K_q,K_w,K_e,K_a,K_s,K_d,K_z,K_x,K_c)\n",
    "from pygame.locals import (K_u,K_i,K_o,K_j,K_k,K_l,K_COMMA)\n",
    "import math as ma\n",
    "pygame.init()"
   ]
  },
  {
   "cell_type": "code",
   "execution_count": 2,
   "metadata": {},
   "outputs": [],
   "source": [
    "np.set_printoptions(precision=3, sign=' ')\n",
    "\n",
    "# Adds a new face and color pair to a pair of lists\n",
    "def newFace(f,c,fL,cL):\n",
    "    fL = np.concatenate((fL,f),axis=0)\n",
    "    cL = np.concatenate((cL,c),axis=0)\n",
    "    return fL,cL\n",
    "\n",
    "# Uses a vector and origin to see which item (from flist) is hit. \n",
    "def rayNumbers(v,O,rst):\n",
    "    t=rst[:,2]\n",
    "    B=rst[:,1]-rst[:,2] #The order here is basically determined by wanting BxC to match the face vector &\n",
    "    C=rst[:,0]-rst[:,2] # wanting both vectors to start at t (although any point would do).\n",
    "    l=O-rst[:,2]\n",
    "    U=np.stack((B,C,np.broadcast_to(-v,B.shape)),axis=1)\n",
    "    # print(U)\n",
    "    try:\n",
    "        N=np.linalg.inv(U)\n",
    "    except:\n",
    "        print('Singular Matrix')\n",
    "        N=np.broadcast_to(np.eye(3,3),U.shape)\n",
    "    u=np.matmul(l[:,None,:],N)[:,0,:] # Not sure why matmul has to go l,N instead of N,l\n",
    "    return u\n",
    "\n",
    "def rayNumbersV(V,O,rst):\n",
    "    indexes = []\n",
    "    for v in V:\n",
    "        #print(v)\n",
    "        rN = rayNumbers(v,O,rst)\n",
    "        rNBool = np.any(np.vstack((0>rN[:,0],0>rN[:,1],1<rN[:,0]+rN[:,1],0>=rN[:,2])),axis=0)\n",
    "        rN[rNBool,2]=np.inf\n",
    "        indexes.append(np.argmin(rN[:,2]))\n",
    "    return indexes\n",
    "\n",
    "def raysOfVision(O,D):\n",
    "    '''\n",
    "    Uses an orientation to return a number of rays which will be used to construct the Vision\n",
    "    @param O : The orientation of the viewer\n",
    "    @param D : A number characterizing the number of rays to be produced\n",
    "    @return : A np.array of rays\n",
    "    '''\n",
    "    assert isinstance(O, sp.spatial.transform.Rotation)\n",
    "    return None\n",
    "\n",
    "def normV(v):\n",
    "    return v / np.linalg.norm(v, axis=len(v.shape)-1, keepdims=True)\n",
    "\n",
    "def newFace(f,c,fL,cL):\n",
    "    fL = np.concatenate((fL,f),axis=0)\n",
    "    cL = np.concatenate((cL,c),axis=0)\n",
    "    return fL,cL\n",
    "\n",
    "def outAround(out,around):\n",
    "    '''\n",
    "    Takes 0,0,1 rotates it round the x axis (down) by the out angle and then rotates it around the z axis by the around angle\n",
    "    only works with one pair of angles at the momen\n",
    "    '''\n",
    "    return R.from_euler('xz', [out,around], degrees=True).apply(np.array([0,0,1]))\n",
    "\n",
    "def outAroundInv(v):\n",
    "    '''\n",
    "    Inverts outAround\n",
    "    '''\n",
    "    if len(v.shape)==1:\n",
    "        return np.arccos(v[2])*180/np.pi, (np.arctan2(v[1],v[0])*180/np.pi)+90\n",
    "    elif len(v.shape)==2:\n",
    "        return np.arccos(v[:,2])*180/np.pi, (np.arctan2(v[:,1],v[:,0])*180/np.pi)+90\n",
    "    else:\n",
    "        raise Exception(\"This function can only handle lists of vectors\") \n",
    "\n",
    "def octahedron(center,r,rot,lowColor=3,highColor=7):\n",
    "    #center=np.array([0,0,0])\n",
    "    #r=3\n",
    "    #rot=R.from_rotvec(np.array([.1, .1, .1]))\n",
    "    offset=np.transpose((np.stack((np.eye(3),np.eye(3)*-1),axis=2)).reshape(3,6))\n",
    "    corners=r*offset+center\n",
    "    #print(offset)\n",
    "    sideSel=np.array([[1,0,1,0,1,0],[1,0,1,0,0,1],[1,0,0,1,1,0],[0,1,1,0,1,0],[0,1,1,0,0,1],[1,0,0,1,0,1],[0,1,0,1,1,0],[0,1,0,1,0,1]],dtype=bool)\n",
    "    sides=np.zeros((1,3,3))\n",
    "    for i in sideSel:\n",
    "        sides=np.append(sides,offset[None,i],axis=0)\n",
    "    sides=sides[1:]\n",
    "    #print(sides)\n",
    "    #print(rot.apply(sides.reshape(24,3)).reshape(8,3,3))\n",
    "    sidesR=rot.apply(sides.reshape(24,3)).reshape(8,3,3)*r+center\n",
    "    lC,hC=lowColor,highColor #low and high color\n",
    "    colors=(np.sum(sides,axis=2)+1)*(hC-lC)/2+lC\n",
    "    #print(colors.shape)\n",
    "    return sidesR,colors\n",
    "def tickMark(loc,color,orientation=0,scale=1):\n",
    "    side=np.array([[0,0,0],[1,0,0],[0,1,0]])\n",
    "    if orientation!=0:\n",
    "        side=orientation.apply(side)\n",
    "    return side, np.array(color)"
   ]
  },
  {
   "cell_type": "code",
   "execution_count": 3,
   "metadata": {},
   "outputs": [],
   "source": [
    "# Define a Player object by extending pygame.sprite.Sprite\n",
    "# The surface drawn on the screen is now an attribute of 'player'\n",
    "class Player(pygame.sprite.Sprite):\n",
    "    def __init__(self):\n",
    "        super(Player, self).__init__()\n",
    "        self.location=np.array([0,0,0])\n",
    "        self.orientation = R.from_rotvec(-2/3*np.pi * normV(np.array([1,1,1])))\n",
    "    \n",
    "    # Move the sprite based on user keypresses\n",
    "    def update(self, pressed_keys):\n",
    "        if pressed_keys[K_w]:\n",
    "            self.location=self.location+self.orientation.apply(np.array([1,0,0]))\n",
    "        if pressed_keys[K_s]:\n",
    "            self.location=self.location-self.orientation.apply(np.array([1,0,0]))\n",
    "        if pressed_keys[K_a]:\n",
    "            self.location=self.location-self.orientation.apply(np.array([0,1,0]))\n",
    "        if pressed_keys[K_d]:\n",
    "            self.location=self.location+self.orientation.apply(np.array([0,1,0]))\n",
    "        if pressed_keys[K_q]:\n",
    "            self.location=self.location+self.orientation.apply(np.array([0,0,1]))\n",
    "        if pressed_keys[K_e]:\n",
    "            self.location=self.location-self.orientation.apply(np.array([0,0,1]))\n",
    "        \n",
    "        if pressed_keys[K_z]:\n",
    "            self.location-=np.array([1,0,0])\n",
    "        if pressed_keys[K_x]:\n",
    "            self.location=np.array([0,0,0])\n",
    "        if pressed_keys[K_c]:\n",
    "            self.location+=np.array([1,0,0])\n",
    "            \n",
    "        if pressed_keys[K_i]:\n",
    "            self.orientation=R.from_euler('x', -10, degrees=True)*self.orientation\n",
    "        if pressed_keys[K_k]:\n",
    "            self.orientation=R.from_euler('x', 10, degrees=True)*self.orientation\n",
    "        if pressed_keys[K_j]:\n",
    "            self.orientation=R.from_euler('y', 10, degrees=True)*self.orientation\n",
    "        if pressed_keys[K_l]:\n",
    "            self.orientation=R.from_euler('y', -10, degrees=True)*self.orientation\n",
    "        if pressed_keys[K_u]:\n",
    "            self.orientation=R.from_euler('z', 10, degrees=True)*self.orientation\n",
    "        if pressed_keys[K_o]:\n",
    "            self.orientation=R.from_euler('z', -10, degrees=True)*self.orientation\n",
    "        if pressed_keys[K_COMMA]:\n",
    "            self.orientation = R.from_rotvec(-2/3*np.pi * normV(np.array([1,1,1])))"
   ]
  },
  {
   "cell_type": "code",
   "execution_count": 4,
   "metadata": {},
   "outputs": [],
   "source": [
    "def outAround2Screen(s,oA):\n",
    "    SCREEN_DIMENSION=s.get_size()\n",
    "    sCx=SCREEN_DIMENSION[0]/2\n",
    "    sCy=SCREEN_DIMENSION[1]/2\n",
    "    sRadius=min(sCx,sCy)\n",
    "    oRadius=oA[0]*sRadius/180\n",
    "    x=oRadius*ma.sin(ma.radians(oA[1]))\n",
    "    y=oRadius*ma.cos(ma.radians(oA[1]))\n",
    "    return sCx+x,sCy+y\n",
    "def pixelCircle(r):\n",
    "    '''\n",
    "    Returns pixels a distance r from center is at coordiate point 0,0 and pixels are assumed to be 1 unit wide.\n",
    "    The closest pixel to the center has the center (0.5,0.5) It is assumed that this level of detail will matter some day.\n",
    "    '''\n",
    "    r2=r*r\n",
    "    pixels=np.array([[r*ma.cos(ma.pi/4)-0.5,r*ma.sin(ma.pi/4)-0.5]],dtype=int)\n",
    "    y = pixels[0,1]\n",
    "    x = pixels[0,0]\n",
    "    cenStack=np.stack((np.arange(0,x),np.arange(0,y))).T\n",
    "    while(y>0 and x<r):\n",
    "        if ma.pow(x+1+0.5,2)+ma.pow(y+0.5,2)<r2 :\n",
    "            x+=1\n",
    "        else :\n",
    "            y-=1\n",
    "        newStack = np.stack((np.arange(x-y,x+1),np.arange(0,y+1))).T\n",
    "        pixels=np.concatenate((pixels,newStack),axis=0)\n",
    "        \n",
    "    # print(np.flip(pixels[1:,:],axis=1))\n",
    "    pixels=np.concatenate((pixels,np.flip(pixels[1:,:],axis=1)),axis=0)\n",
    "    pixels=np.concatenate((pixels,cenStack),axis=0)\n",
    "    # rotating the quarter circle\n",
    "    pixels=pixels+0.5\n",
    "    pixelX=np.multiply(pixels,np.broadcast_to(np.array([-1,1]),(pixels.shape)))\n",
    "    pixels=np.concatenate((pixels,pixelX),axis=0)\n",
    "    pixelY=np.multiply(pixels,np.broadcast_to(np.array([1,-1]),(pixels.shape)))\n",
    "    pixels=np.concatenate((pixels,pixelY),axis=0)\n",
    "    pixels=pixels-0.5\n",
    "    return(pixels.astype(int))\n",
    "def outAround(out,around):\n",
    "    '''\n",
    "    Takes 0,0,1 rotates it round the x axis (down) by the out angle and then rotates it around the z axis by the around angle\n",
    "    only works with one pair of angles at the momen\n",
    "    '''\n",
    "    return R.from_euler('xz', [out,around], degrees=True).apply(np.array([0,0,1]))\n",
    "def pixelCircle(r,centers=False,normalized=False):\n",
    "    '''\n",
    "    Returns pixels a distance r from center is at coordiate point 0,0 and pixels are assumed to be 1 unit wide.\n",
    "    The closest pixel to the center has the center (0.5,0.5) It is assumed that this level of detail will matter some day.\n",
    "    '''\n",
    "    r2=r*r\n",
    "    pixels=np.array([[r*ma.cos(ma.pi/4)-0.5,r*ma.sin(ma.pi/4)-0.5]],dtype=int)\n",
    "    y = pixels[0,1]\n",
    "    x = pixels[0,0]\n",
    "    cenStack=np.stack((np.arange(0,x),np.arange(0,y))).T\n",
    "    # print(x,y)\n",
    "    while(y>=0 and x<r):\n",
    "        # print(x+1,y,ma.pow(x+1+0.5,2)+ma.pow(y+0.5,2))\n",
    "        if ma.pow(x+1+0.5,2)+ma.pow(y+0.5,2)<r2 :\n",
    "            x+=1\n",
    "        else :\n",
    "            y-=1\n",
    "        newStack = np.stack((np.arange(x-y,x+1),np.arange(0,y+1))).T\n",
    "        pixels=np.concatenate((pixels,newStack),axis=0)\n",
    "        \n",
    "    # print(np.flip(pixels[1:,:],axis=1))\n",
    "    pixels=np.concatenate((pixels,np.flip(pixels[1:,:],axis=1)),axis=0)\n",
    "    pixels=np.concatenate((pixels,cenStack),axis=0)\n",
    "    # rotating the quarter circle\n",
    "    pixels=pixels+0.5\n",
    "    pixelX=np.multiply(pixels,np.broadcast_to(np.array([-1,1]),(pixels.shape)))\n",
    "    pixels=np.concatenate((pixels,pixelX),axis=0)\n",
    "    pixelY=np.multiply(pixels,np.broadcast_to(np.array([1,-1]),(pixels.shape)))\n",
    "    pixels=np.concatenate((pixels,pixelY),axis=0)\n",
    "    if centers:\n",
    "        return pixels\n",
    "    else:\n",
    "        pixels=pixels-0.5\n",
    "        return(pixels.astype(int))\n",
    "def persp2eyeVec(coords):\n",
    "    '''\n",
    "    Perspective should refer to the normalized version of what goes onto the screen. Screen should refer to what gets put onto the screen\n",
    "    Takes perspective coordintes and returns the eye vector corresponding to that perspective coordinate\n",
    "    '''\n",
    "    # print(coords)\n",
    "    coords=np.reshape(coords,(int(coords.size/2),2))\n",
    "    outDist=np.linalg.norm(coords,axis=1)\n",
    "    outAngle=np.arcsin(outDist)*2\n",
    "    aroundAngle=np.arctan2(coords[:,1],coords[:,0])+np.pi/2\n",
    "    # print(coords.T)\n",
    "    # print(outDist)\n",
    "    # next we need to convert the \n",
    "    OACoords=np.array([outAngle,aroundAngle]).T\n",
    "    # print(np.degrees(OACoords).T)\n",
    "    vector=R.from_euler('xz', OACoords, degrees=False).apply(np.array([0,0,1]))\n",
    "    return vector\n",
    "\n",
    "def draw_dot(s,c,l,size=1):\n",
    "    if isinstance(c,int):\n",
    "        c=(c,c,c)\n",
    "    pygame.draw.circle(s,c,l,size)\n",
    "\n",
    "def draw_dot_screen(s,c,l,size=1):\n",
    "    if isinstance(c,int):\n",
    "        c=(c,c,c)\n",
    "    pygame.draw.circle(s,c,l,size)"
   ]
  },
  {
   "cell_type": "code",
   "execution_count": 5,
   "metadata": {},
   "outputs": [
    {
     "name": "stdout",
     "output_type": "stream",
     "text": [
      "(7860, 2)\n",
      "(7860, 3)\n"
     ]
    }
   ],
   "source": [
    "# completed number munching\n",
    "# setting up position\n",
    "O = np.array([0,0,0])\n",
    "# setting up some things to look at\n",
    "fList,cList=octahedron(np.array([0,0,0]),30,R.from_rotvec(np.array([2*np.pi,0,0])))\n",
    "nf,nc=octahedron(np.array([6,7,8]),5,R.from_rotvec(np.array([10, 15, 5])),highColor=8)\n",
    "fList,cList = newFace(nf,nc,fList,cList)\n",
    "fList,cList = newFace(np.array([[[8,0,0],[8,1,0],[8,0,1]]]),np.array([[9,0,0]]),fList,cList)\n",
    "fList,cList = newFace(np.array([[[0,8,0],[0,8,1],[1,8,0]]]),np.array([[0,9,0]]),fList,cList)\n",
    "fList,cList = newFace(np.array([[[0,0,8],[1,0,8],[0,1,8]]]),np.array([[0,0,9]]),fList,cList)\n",
    "fList,cList = newFace(np.array([[[-8,0,0],[-8,1,0],[-8,0,1]]]),np.array([[0,9,9]]),fList,cList)\n",
    "fList,cList = newFace(np.array([[[0,-8,0],[0,-8,1],[1,-8,0]]]),np.array([[9,0,9]]),fList,cList)\n",
    "fList,cList = newFace(np.array([[[0,0,-8],[1,0,-8],[0,1,-8]]]),np.array([[9,9,0]]),fList,cList)\n",
    "fList,cList = newFace(np.array([[[16,0,0],[16,1,0],[16,0,1]]]),np.array([[9,0,0]]),fList,cList)\n",
    "fList,cList = newFace(np.array([[[0,16,0],[0,16,1],[1,16,0]]]),np.array([[0,9,0]]),fList,cList)\n",
    "fList,cList = newFace(np.array([[[0,0,16],[1,0,16],[0,1,16]]]),np.array([[0,0,9]]),fList,cList)\n",
    "cList=cList/9*255\n",
    "nFaces=fList.shape[0]\n",
    "# making some sight vectors\n",
    "perspCoords = pixelCircle(50,True)/50\n",
    "sightVectors = persp2eyeVec(perspCoords)\n",
    "# ray tracing\n",
    "print(perspCoords.shape)\n",
    "print(sightVectors.shape)"
   ]
  },
  {
   "cell_type": "code",
   "execution_count": 6,
   "metadata": {
    "scrolled": true
   },
   "outputs": [],
   "source": [
    "\n",
    "# font = pygame.font.SysFont(None, 24) # Need to test this module in a smaller environemnt. \n",
    "\n",
    "clock = pygame.time.Clock()\n",
    "SCREEN_DIMENSION=(700,600)\n",
    "sCx=SCREEN_DIMENSION[0]/2\n",
    "sCy=SCREEN_DIMENSION[1]/2\n",
    "sRadius=min(sCx,sCy)\n",
    "screenCoords = np.multiply(perspCoords*sRadius,np.broadcast_to(np.array([1,-1]),(perspCoords.shape)))+np.array([sCx,sCy]).astype(int)\n",
    "\n",
    "screen = pygame.display.set_mode(SCREEN_DIMENSION)\n",
    "\n",
    "player = Player()\n",
    "\n",
    "# Run until the user asks to quit\n",
    "running = True\n",
    "while running:\n",
    "    # Did the user click the window close button?\n",
    "    for event in pygame.event.get():\n",
    "        # Did the user hit a key?\n",
    "        if event.type == KEYDOWN:\n",
    "            # Was it the Escape key? If so, stop the loop.\n",
    "            if event.key == K_ESCAPE:\n",
    "                running = False\n",
    "            if event.key == K_ESCAPE:\n",
    "                running = False\n",
    "        # Check for QUIT event. If QUIT, then set running to false.\n",
    "        elif event.type == pygame.QUIT:\n",
    "            running = False\n",
    "            \n",
    "    # Get all the keys currently pressed\n",
    "    pressed_keys = pygame.key.get_pressed()\n",
    "    # Update the player based on user keypresses\n",
    "    player.update(pressed_keys)\n",
    "    \n",
    "    fListFlat=fList.reshape(nFaces*3,3)\n",
    "    fListP=player.orientation.apply(fListFlat).reshape(nFaces,3,3)\n",
    "    \n",
    "    # Fill the background with white\n",
    "    # screen.fill((255, 255, 255))\n",
    "    \n",
    "    # sightVectors = R.random(500).apply(pzh)\n",
    "    nearIndexs=rayNumbersV(sightVectors,player.location,fListP)\n",
    "    nearColors=cList[nearIndexs]\n",
    "    # outArnd=np.transpose(np.array(outAroundInv(sightVectors)))\n",
    "    \n",
    "    for i in range(0,screenCoords.shape[0]):\n",
    "        draw_dot_screen(screen,nearColors[i],screenCoords[i],4)\n",
    "\n",
    "    \n",
    "    # Draw the reticle\n",
    "    reticleC=(180, 180, 180)\n",
    "    pygame.draw.circle(screen, reticleC, (sCx, sCy), sRadius, width=2)\n",
    "    pygame.draw.circle(screen, reticleC, (sCx, sCy), sRadius*0.707, width=2)\n",
    "    pygame.draw.line(screen, reticleC, (sCx-sRadius, sCy), (sCx+sRadius, sCy), width=2)\n",
    "    pygame.draw.line(screen, reticleC, (sCx, sCy-sRadius), (sCx, sCy+sRadius), width=2)\n",
    "    \n",
    "    # Flip the display\n",
    "    pygame.display.flip()\n",
    "    \n",
    "    clock.tick(5)\n",
    "\n",
    "# Done! Time to quit.\n",
    "pygame.display.quit()"
   ]
  },
  {
   "cell_type": "code",
   "execution_count": null,
   "metadata": {},
   "outputs": [],
   "source": [
    "# Display of location/orientation \n",
    "#     learn to draw text. \n",
    "# shoot 1 ray per pixel\n",
    "#     convert screen coordinate too ray"
   ]
  }
 ],
 "metadata": {
  "kernelspec": {
   "display_name": "Python 3",
   "language": "python",
   "name": "python3"
  },
  "language_info": {
   "codemirror_mode": {
    "name": "ipython",
    "version": 3
   },
   "file_extension": ".py",
   "mimetype": "text/x-python",
   "name": "python",
   "nbconvert_exporter": "python",
   "pygments_lexer": "ipython3",
   "version": "3.7.8"
  }
 },
 "nbformat": 4,
 "nbformat_minor": 4
}
